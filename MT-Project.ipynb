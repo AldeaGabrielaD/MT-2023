{
 "cells": [
  {
   "cell_type": "code",
   "execution_count": 109,
   "metadata": {
    "ExecuteTime": {
     "end_time": "2023-01-22T16:21:27.611781Z",
     "start_time": "2023-01-22T16:21:27.596151Z"
    }
   },
   "outputs": [],
   "source": [
    "#!pip install -U easynmt\n",
    "#!pip install --user unbabel-comet\n",
    "#!pip install --upgrade pip\n",
    "import csv\n",
    "from easynmt import EasyNMT\n",
    "import string\n",
    "from datasets import load_metric"
   ]
  },
  {
   "cell_type": "code",
   "execution_count": 119,
   "metadata": {},
   "outputs": [
    {
     "name": "stdout",
     "output_type": "stream",
     "text": [
      "we should ban human cloning as it will only cause huge issues when you have a bunch of the same humans running around all acting the same.\n"
     ]
    }
   ],
   "source": [
    "data_ref = []\n",
    "\n",
    "with open(\"dataset/arguments-training.tsv\", encoding='utf-8') as f:\n",
    "   for line in f:\n",
    "    l=line.split('\\t')\n",
    "    #print(l)\n",
    "    data_ref.append(l[3].replace('\\n', ''))\n",
    "data_ref = data_ref[1:5001]\n",
    "len(data_ref)\n",
    "print(data_ref[0])"
   ]
  },
  {
   "cell_type": "code",
   "execution_count": 121,
   "metadata": {},
   "outputs": [],
   "source": [
    "input_lenghts = []\n",
    "for d in data_ref:\n",
    "    input_lenghts.append(len(d.split(' ')))"
   ]
  },
  {
   "cell_type": "code",
   "execution_count": 123,
   "metadata": {},
   "outputs": [
    {
     "name": "stdout",
     "output_type": "stream",
     "text": [
      "133\n",
      "3\n"
     ]
    }
   ],
   "source": [
    "print(max(input_lenghts))\n",
    "print(min(input_lenghts))"
   ]
  },
  {
   "cell_type": "code",
   "execution_count": 126,
   "metadata": {},
   "outputs": [
    {
     "data": {
      "text/plain": [
       "'\"Wir sollten das Klonen von Menschen verbieten, da es nur dann zu großen Problemen führen wird, wenn ein Haufen von denselben Menschen alle gleich herumlaufen.\"'"
      ]
     },
     "execution_count": 126,
     "metadata": {},
     "output_type": "execute_result"
    }
   ],
   "source": [
    "data_src = []\n",
    "with open(\"output_translated_5_languages/opus-mt_en-de.csv\", encoding='utf-8') as f:\n",
    "   for line in f:\n",
    "        l=line.split('\\t')\n",
    "\n",
    "        data_src.append(l[0].replace('\\n', ''))\n",
    "data_src = data_src[1:]\n",
    "len(data_src)\n",
    "data_src[0]"
   ]
  },
  {
   "cell_type": "code",
   "execution_count": 139,
   "metadata": {},
   "outputs": [
    {
     "name": "stdout",
     "output_type": "stream",
     "text": [
      "5000\n"
     ]
    },
    {
     "data": {
      "text/plain": [
       "'“We should prohibit the cloning of people because it will only lead to big problems when a crowd of the same people all run around the same way.”'"
      ]
     },
     "execution_count": 139,
     "metadata": {},
     "output_type": "execute_result"
    }
   ],
   "source": [
    "data_mt = []\n",
    "with open(\"output_back_m2m_100/m2m_100_418M_de-en.csv\", encoding='utf-8') as f:\n",
    "   for line in f:\n",
    "        l=line.split('\\t')\n",
    "\n",
    "        data_mt.append(l[0].replace('\\n', ''))\n",
    "#data_mt = data_mt[1:]\n",
    "data_mt[0]\n",
    "print(len(data_mt))\n",
    "data_mt[0]"
   ]
  },
  {
   "cell_type": "code",
   "execution_count": 114,
   "metadata": {},
   "outputs": [],
   "source": [
    "data = []\n",
    "\n",
    "for (ref, src, mt) in zip(data_ref, data_src, data_mt):\n",
    "    d = {}\n",
    "    if ref!='' and mt!='':\n",
    "        \n",
    "        d['src'] = src\n",
    "        d['mt'] = mt\n",
    "        d['ref'] = ref\n",
    "        data.append(d)"
   ]
  },
  {
   "cell_type": "code",
   "execution_count": 115,
   "metadata": {},
   "outputs": [
    {
     "data": {
      "text/plain": [
       "{'src': 'Dovremmo vietare la clonazione umana in quanto causerà enormi problemi solo quando ci sono un gruppo di esseri umani che si comportano tutti allo stesso modo.',\n",
       " 'mt': \"We should ban human cloning because it will only cause huge problems when there's a group of human beings who all behave in the same way.\",\n",
       " 'ref': 'we should ban human cloning as it will only cause huge issues when you have a bunch of the same humans running around all acting the same.'}"
      ]
     },
     "execution_count": 115,
     "metadata": {},
     "output_type": "execute_result"
    }
   ],
   "source": [
    "data[0]"
   ]
  },
  {
   "cell_type": "code",
   "execution_count": 116,
   "metadata": {},
   "outputs": [
    {
     "name": "stdout",
     "output_type": "stream",
     "text": [
      "{'bleu': 0.5126208789439937, 'precisions': [0.7552734159710601, 0.5787347166984904, 0.45724054213580123, 0.3633318788107509], 'brevity_penalty': 0.9875027154508047, 'length_ratio': 0.9875801599239965, 'translation_length': 99793, 'reference_length': 101048}\n"
     ]
    }
   ],
   "source": [
    "bleu = load_metric(\"bleu\")\n",
    "predictions = []\n",
    "references = []\n",
    "for d in data:\n",
    "    predictions.append(d['mt'].translate(str.maketrans('', '', string.punctuation)).split(' ')) \n",
    "    references.append([d['ref'].translate(str.maketrans('', '', string.punctuation)).split(' ')]) \n",
    "\n",
    "print(bleu.compute(predictions=predictions, references=references))"
   ]
  },
  {
   "cell_type": "code",
   "execution_count": null,
   "metadata": {},
   "outputs": [],
   "source": [
    "model_output = model.predict(data[:1], batch_size=1, gpus=0)\n",
    "seg_scores, system_score = model_output[0], model_output[1]\n",
    "\n",
    "print(seg_scores, system_score)\n",
    "print(model_output)"
   ]
  },
  {
   "cell_type": "code",
   "execution_count": null,
   "metadata": {},
   "outputs": [],
   "source": [
    "#!pip install datasets\n",
    "import string\n",
    "\n",
    "from datasets import load_metric\n",
    "  \n",
    "bleu = load_metric(\"bleu\")\n",
    "\n",
    "\n",
    "predictions = [ data[0]['mt'].translate(str.maketrans('', '', string.punctuation)).split(' '),\n",
    "                data[1]['mt'].translate(str.maketrans('', '', string.punctuation)).split(' '),\n",
    "              ]\n",
    "references = [ [data[0]['ref'].translate(str.maketrans('', '', string.punctuation)).split(' ')],\n",
    "               [data[1]['ref'].translate(str.maketrans('', '', string.punctuation)).split(' ')],\n",
    "             ]\n",
    "#print(predictions[0])\n",
    "#print(references[0])\n",
    "'''\n",
    "predictions = [[\"the\", \"picture\", \"the\", \"picture\",\n",
    "                \"by\", \"me\"]]\n",
    "references = [\n",
    "    [[\"the\", \"picture\", \"is\", \"clicked\", \"by\", \"me\"], \n",
    "     [\"this\", \"picture\", \"was\", \"clicked\", \"by\", \"me\"]]\n",
    "]\n",
    "'''\n",
    "\n",
    "print(bleu.compute(predictions=predictions, references=references))"
   ]
  },
  {
   "cell_type": "code",
   "execution_count": null,
   "metadata": {},
   "outputs": [],
   "source": [
    "from comet import download_model, load_from_checkpoint\n",
    "\n",
    "model_path = download_model(\"wmt21-comet-qe-mqm\") # 'wmt20-comet-da'\n",
    "model = load_from_checkpoint(model_path)"
   ]
  },
  {
   "cell_type": "code",
   "execution_count": null,
   "metadata": {},
   "outputs": [],
   "source": [
    "'''\n",
    "data = [\n",
    "    {\n",
    "        \"src\": \"Dem Feuer konnte Einhalt geboten werden\",\n",
    "        \"mt\": \"The fire could be stopped\",\n",
    "        \"ref\": \"They were able to control the fire.\"\n",
    "    },\n",
    "    {\n",
    "        \"src\": \"Schulen und Kindergärten wurden eröffnet.\",\n",
    "        \"mt\": \"Schools and kindergartens were open\",\n",
    "        \"ref\": \"Schools and kindergartens opened\"\n",
    "    }\n",
    "]\n",
    "'''\n",
    "model_output = model.predict(data, batch_size=8, gpus=0)\n",
    "seg_scores, system_score = model_output[0], model_output[1]\n",
    "\n",
    "print(seg_scores, system_score)"
   ]
  },
  {
   "cell_type": "code",
   "execution_count": null,
   "metadata": {},
   "outputs": [],
   "source": [
    "print(len(seg_scores))"
   ]
  },
  {
   "cell_type": "code",
   "execution_count": null,
   "metadata": {},
   "outputs": [],
   "source": [
    "print(system_score)"
   ]
  },
  {
   "cell_type": "code",
   "execution_count": null,
   "metadata": {
    "ExecuteTime": {
     "end_time": "2023-01-22T16:21:54.673721Z",
     "start_time": "2023-01-22T16:21:54.646804Z"
    }
   },
   "outputs": [],
   "source": [
    "data = []\n",
    "\n",
    "with open(\"dataset/arguments-training.tsv\", encoding='utf-8') as f:\n",
    "   for line in f:\n",
    "    l=line.split('\\t')\n",
    "\n",
    "    data.append(l[3].replace('\\n', ''))\n",
    "data = data[1:]"
   ]
  },
  {
   "cell_type": "code",
   "execution_count": null,
   "metadata": {},
   "outputs": [],
   "source": [
    "dataset = []\n",
    "with open(\"output_translated_5_languages/opus-mt_en-it.csv\", encoding='utf-8') as f:\n",
    "   for line in f:\n",
    "        l=line.split('\\t')\n",
    "\n",
    "        dataset.append(l[0].replace('\\n', ''))\n",
    "dataset = dataset[1:]\n",
    "#data"
   ]
  },
  {
   "cell_type": "code",
   "execution_count": null,
   "metadata": {},
   "outputs": [],
   "source": [
    "len(dataset)"
   ]
  },
  {
   "cell_type": "code",
   "execution_count": null,
   "metadata": {
    "ExecuteTime": {
     "end_time": "2023-01-22T16:21:56.927324Z",
     "start_time": "2023-01-22T16:21:56.911022Z"
    }
   },
   "outputs": [],
   "source": [
    "data = dataset[:2000]\n",
    "#data = dataset[2000:4000]\n",
    "#data = dataset[4000:4700]\n",
    "#data = dataset[4700:5000]\n",
    "###data = dataset[5000:5200]"
   ]
  },
  {
   "cell_type": "code",
   "execution_count": null,
   "metadata": {},
   "outputs": [],
   "source": [
    "#data"
   ]
  },
  {
   "cell_type": "code",
   "execution_count": null,
   "metadata": {},
   "outputs": [],
   "source": [
    "model = EasyNMT('m2m_100_418M')\n",
    "result = model.translate(data, target_lang='en')\n",
    "header = ['it-EN']\n",
    "\n",
    "with open('m2m_100_418M_it-en.csv', 'w',newline='', encoding='UTF8') as f:\n",
    "    writer = csv.writer(f)\n",
    "\n",
    "    #writer.writerow(header)\n",
    "    for res in result:\n",
    "       writer.writerow([res])"
   ]
  },
  {
   "cell_type": "code",
   "execution_count": null,
   "metadata": {},
   "outputs": [],
   "source": [
    "data = dataset[2000:4000]\n",
    "result = model.translate(data, target_lang='en')\n",
    "header = ['it-EN']\n",
    "\n",
    "with open('m2m_100_418M_it-en.csv', 'a',newline='', encoding='UTF8') as f:\n",
    "    writer = csv.writer(f)\n",
    "\n",
    "    #writer.writerow(header)\n",
    "    for res in result:\n",
    "       writer.writerow([res])"
   ]
  },
  {
   "cell_type": "code",
   "execution_count": null,
   "metadata": {},
   "outputs": [],
   "source": [
    "data = dataset[4000:4700]\n",
    "result = model.translate(data, target_lang='en')\n",
    "header = ['it-EN']\n",
    "\n",
    "with open('m2m_100_418M_it-en.csv', 'a',newline='', encoding='UTF8') as f:\n",
    "    writer = csv.writer(f)\n",
    "\n",
    "    #writer.writerow(header)\n",
    "    for res in result:\n",
    "       writer.writerow([res])"
   ]
  },
  {
   "cell_type": "code",
   "execution_count": null,
   "metadata": {},
   "outputs": [],
   "source": [
    "data = dataset[4700:5000]\n",
    "result = model.translate(data, target_lang='en')\n",
    "header = ['it-EN']\n",
    "\n",
    "with open('m2m_100_418M_it-en.csv', 'a',newline='', encoding='UTF8') as f:\n",
    "    writer = csv.writer(f)\n",
    "\n",
    "    #writer.writerow(header)\n",
    "    for res in result:\n",
    "       writer.writerow([res])"
   ]
  },
  {
   "cell_type": "code",
   "execution_count": null,
   "metadata": {},
   "outputs": [],
   "source": [
    "dataset = []\n",
    "with open(\"output_translated_5_languages/opus-mt_en-es.csv\", encoding='utf-8') as f:\n",
    "   for line in f:\n",
    "        l=line.split('\\t')\n",
    "\n",
    "        dataset.append(l[0].replace('\\n', ''))\n",
    "dataset = dataset[1:]\n",
    "#data"
   ]
  },
  {
   "cell_type": "code",
   "execution_count": null,
   "metadata": {},
   "outputs": [],
   "source": [
    "data = dataset[:2000]\n",
    "result = model.translate(data, target_lang='en')\n",
    "header = ['es-EN']\n",
    "\n",
    "with open('m2m_100_418M_es-en.csv', 'w',newline='', encoding='UTF8') as f:\n",
    "    writer = csv.writer(f)\n",
    "\n",
    "    #writer.writerow(header)\n",
    "    for res in result:\n",
    "       writer.writerow([res])"
   ]
  },
  {
   "cell_type": "code",
   "execution_count": null,
   "metadata": {},
   "outputs": [],
   "source": [
    "data = dataset[2000:4000]\n",
    "result = model.translate(data, target_lang='en')\n",
    "header = ['es-EN']\n",
    "\n",
    "with open('m2m_100_418M_es-en.csv', 'a',newline='', encoding='UTF8') as f:\n",
    "    writer = csv.writer(f)\n",
    "\n",
    "    #writer.writerow(header)\n",
    "    for res in result:\n",
    "       writer.writerow([res])"
   ]
  },
  {
   "cell_type": "code",
   "execution_count": null,
   "metadata": {},
   "outputs": [],
   "source": [
    "model = EasyNMT('m2m_100_418M')"
   ]
  },
  {
   "cell_type": "code",
   "execution_count": null,
   "metadata": {},
   "outputs": [],
   "source": [
    "data = dataset[4000:4300]\n",
    "result = model.translate(data, target_lang='en')\n",
    "header = ['es-EN']\n",
    "\n",
    "with open('m2m_100_418M_es-en.csv', 'a',newline='', encoding='UTF8') as f:\n",
    "    writer = csv.writer(f)\n",
    "\n",
    "    #writer.writerow(header)\n",
    "    for res in result:\n",
    "       writer.writerow([res])"
   ]
  },
  {
   "cell_type": "code",
   "execution_count": null,
   "metadata": {},
   "outputs": [],
   "source": [
    "data = dataset[4300:4400]\n",
    "result = model.translate(data, target_lang='en')\n",
    "header = ['es-EN']\n",
    "\n",
    "with open('m2m_100_418M_es-en.csv', 'a',newline='', encoding='UTF8') as f:\n",
    "    writer = csv.writer(f)\n",
    "\n",
    "    #writer.writerow(header)\n",
    "    for res in result:\n",
    "       writer.writerow([res])"
   ]
  },
  {
   "cell_type": "code",
   "execution_count": null,
   "metadata": {},
   "outputs": [],
   "source": [
    "data = dataset[4400:4500]\n",
    "#result = model.translate(data, target_lang='en')\n",
    "header = ['es-EN']\n",
    "result = data\n",
    "with open('m2m_100_418M_es-en.csv', 'a',newline='', encoding='UTF8') as f:\n",
    "    writer = csv.writer(f)\n",
    "\n",
    "    #writer.writerow(header)\n",
    "    for res in result:\n",
    "       writer.writerow([''])"
   ]
  },
  {
   "cell_type": "code",
   "execution_count": null,
   "metadata": {},
   "outputs": [],
   "source": [
    "data = dataset[4500:4700]\n",
    "result = model.translate(data, target_lang='en')\n",
    "header = ['es-EN']\n",
    "\n",
    "with open('m2m_100_418M_es-en.csv', 'a',newline='', encoding='UTF8') as f:\n",
    "    writer = csv.writer(f)\n",
    "\n",
    "    #writer.writerow(header)\n",
    "    for res in result:\n",
    "       writer.writerow([res])"
   ]
  },
  {
   "cell_type": "code",
   "execution_count": null,
   "metadata": {},
   "outputs": [],
   "source": [
    "data = dataset[4700:5000]\n",
    "result = model.translate(data, target_lang='en')\n",
    "header = ['es-EN']\n",
    "\n",
    "with open('m2m_100_418M_es-en.csv', 'a',newline='', encoding='UTF8') as f:\n",
    "    writer = csv.writer(f)\n",
    "\n",
    "    #writer.writerow(header)\n",
    "    for res in result:\n",
    "       writer.writerow([res])"
   ]
  },
  {
   "cell_type": "code",
   "execution_count": null,
   "metadata": {},
   "outputs": [],
   "source": [
    "dataset = []\n",
    "with open(\"output_translated_5_languages/opus-mt_en-fr.csv\", encoding='utf-8') as f:\n",
    "   for line in f:\n",
    "        l=line.split('\\t')\n",
    "\n",
    "        dataset.append(l[0].replace('\\n', ''))\n",
    "dataset = dataset[1:]\n",
    "#data\n",
    "data = dataset[:2000]"
   ]
  },
  {
   "cell_type": "code",
   "execution_count": null,
   "metadata": {
    "ExecuteTime": {
     "end_time": "2023-01-22T16:22:05.390048Z",
     "start_time": "2023-01-22T16:22:04.776782Z"
    }
   },
   "outputs": [],
   "source": [
    "model = EasyNMT('opus-mt')\n",
    "result = model.translate(data, target_lang='en')\n",
    "#print(result)"
   ]
  },
  {
   "cell_type": "code",
   "execution_count": null,
   "metadata": {
    "scrolled": true
   },
   "outputs": [],
   "source": [
    "print(result[:5])"
   ]
  },
  {
   "cell_type": "code",
   "execution_count": null,
   "metadata": {},
   "outputs": [],
   "source": [
    "header = ['FR-EN']\n",
    "\n",
    "with open('opus-mt_fr-en.csv', 'w',newline='', encoding='UTF8') as f:\n",
    "    writer = csv.writer(f)\n",
    "\n",
    "    #writer.writerow(header)\n",
    "    for res in result:\n",
    "       writer.writerow([res])"
   ]
  },
  {
   "cell_type": "code",
   "execution_count": null,
   "metadata": {},
   "outputs": [],
   "source": [
    "data = dataset[2000:4000]\n",
    "\n",
    "result = model.translate(data, target_lang='en')\n",
    "header = ['FR-EN']\n",
    "\n",
    "with open('opus-mt_fr-en.csv', 'a',newline='', encoding='UTF8') as f:\n",
    "    writer = csv.writer(f)\n",
    "\n",
    "    #writer.writerow(header)\n",
    "    for res in result:\n",
    "       writer.writerow([res])"
   ]
  },
  {
   "cell_type": "code",
   "execution_count": null,
   "metadata": {},
   "outputs": [],
   "source": [
    "data = dataset[4000:4700]\n",
    "\n",
    "result = model.translate(data, target_lang='en')\n",
    "header = ['FR-EN']\n",
    "\n",
    "with open('opus-mt_fr-en.csv', 'a',newline='', encoding='UTF8') as f:\n",
    "    writer = csv.writer(f)\n",
    "\n",
    "    #writer.writerow(header)\n",
    "    for res in result:\n",
    "       writer.writerow([res])"
   ]
  },
  {
   "cell_type": "code",
   "execution_count": null,
   "metadata": {},
   "outputs": [],
   "source": [
    "data = dataset[4700:5000]\n",
    "\n",
    "result = model.translate(data, target_lang='en')\n",
    "header = ['FR-EN']\n",
    "\n",
    "with open('opus-mt_fr-en.csv', 'a',newline='', encoding='UTF8') as f:\n",
    "    writer = csv.writer(f)\n",
    "\n",
    "    #writer.writerow(header)\n",
    "    for res in result:\n",
    "       writer.writerow([res])"
   ]
  },
  {
   "cell_type": "code",
   "execution_count": null,
   "metadata": {},
   "outputs": [],
   "source": [
    "dataset = []\n",
    "with open(\"output_translated_5_languages/opus-mt_en-de.csv\", encoding='utf-8') as f:\n",
    "   for line in f:\n",
    "        l=line.split('\\t')\n",
    "\n",
    "        dataset.append(l[0].replace('\\n', ''))\n",
    "dataset = dataset[1:]\n",
    "#data\n",
    "data = dataset[:2000]"
   ]
  },
  {
   "cell_type": "code",
   "execution_count": null,
   "metadata": {},
   "outputs": [],
   "source": [
    "result = model.translate(data, target_lang='en')\n",
    "header = ['DE-EN']\n",
    "\n",
    "with open('opus-mt_de-en.csv', 'w',newline='', encoding='UTF8') as f:\n",
    "    writer = csv.writer(f)\n",
    "\n",
    "    #writer.writerow(header)\n",
    "    for res in result:\n",
    "       writer.writerow([res])"
   ]
  },
  {
   "cell_type": "code",
   "execution_count": null,
   "metadata": {},
   "outputs": [],
   "source": [
    "data = dataset[2000:4000]\n",
    "\n",
    "result = model.translate(data, target_lang='en')\n",
    "header = ['DE-EN']\n",
    "\n",
    "with open('opus-mt_de-en.csv', 'a',newline='', encoding='UTF8') as f:\n",
    "    writer = csv.writer(f)\n",
    "\n",
    "    #writer.writerow(header)\n",
    "    for res in result:\n",
    "       writer.writerow([res])"
   ]
  },
  {
   "cell_type": "code",
   "execution_count": null,
   "metadata": {},
   "outputs": [],
   "source": [
    "data = dataset[4000:4700]\n",
    "\n",
    "result = model.translate(data, target_lang='en')\n",
    "header = ['DE-EN']\n",
    "\n",
    "with open('opus-mt_de-en.csv', 'a',newline='', encoding='UTF8') as f:\n",
    "    writer = csv.writer(f)\n",
    "\n",
    "    #writer.writerow(header)\n",
    "    for res in result:\n",
    "       writer.writerow([res])"
   ]
  },
  {
   "cell_type": "code",
   "execution_count": null,
   "metadata": {},
   "outputs": [],
   "source": [
    "data = dataset[4700:5000]\n",
    "\n",
    "result = model.translate(data, target_lang='en')\n",
    "header = ['DE-EN']\n",
    "\n",
    "with open('opus-mt_de-en.csv', 'a',newline='', encoding='UTF8') as f:\n",
    "    writer = csv.writer(f)\n",
    "\n",
    "    #writer.writerow(header)\n",
    "    for res in result:\n",
    "       writer.writerow([res])"
   ]
  },
  {
   "cell_type": "code",
   "execution_count": null,
   "metadata": {},
   "outputs": [],
   "source": [
    "dataset = []\n",
    "with open(\"output_translated_5_languages/opus-mt_en-it.csv\", encoding='utf-8') as f:\n",
    "   for line in f:\n",
    "        l=line.split('\\t')\n",
    "\n",
    "        dataset.append(l[0].replace('\\n', ''))\n",
    "dataset = dataset[1:]\n",
    "#data\n",
    "data = dataset[:2000]"
   ]
  },
  {
   "cell_type": "code",
   "execution_count": null,
   "metadata": {},
   "outputs": [],
   "source": [
    "result = model.translate(data, target_lang='en')\n",
    "header = ['IT-EN']\n",
    "\n",
    "with open('opus-mt_it-en.csv', 'w',newline='', encoding='UTF8') as f:\n",
    "    writer = csv.writer(f)\n",
    "\n",
    "    #writer.writerow(header)\n",
    "    for res in result:\n",
    "       writer.writerow([res])"
   ]
  },
  {
   "cell_type": "code",
   "execution_count": null,
   "metadata": {},
   "outputs": [],
   "source": [
    "data = dataset[2000:4000]\n",
    "\n",
    "result = model.translate(data, target_lang='en')\n",
    "header = ['IT-EN']\n",
    "\n",
    "with open('opus-mt_it-en.csv', 'a',newline='', encoding='UTF8') as f:\n",
    "    writer = csv.writer(f)\n",
    "\n",
    "    #writer.writerow(header)\n",
    "    for res in result:\n",
    "       writer.writerow([res])"
   ]
  },
  {
   "cell_type": "code",
   "execution_count": null,
   "metadata": {},
   "outputs": [],
   "source": [
    "data = dataset[4000:4700]\n",
    "\n",
    "result = model.translate(data, target_lang='en')\n",
    "header = ['IT-EN']\n",
    "\n",
    "with open('opus-mt_it-en.csv', 'a',newline='', encoding='UTF8') as f:\n",
    "    writer = csv.writer(f)\n",
    "\n",
    "    #writer.writerow(header)\n",
    "    for res in result:\n",
    "       writer.writerow([res])"
   ]
  },
  {
   "cell_type": "code",
   "execution_count": null,
   "metadata": {},
   "outputs": [],
   "source": [
    "data = dataset[4700:5000]\n",
    "\n",
    "result = model.translate(data, target_lang='en')\n",
    "header = ['IT-EN']\n",
    "\n",
    "with open('opus-mt_it-en.csv', 'a',newline='', encoding='UTF8') as f:\n",
    "    writer = csv.writer(f)\n",
    "\n",
    "    #writer.writerow(header)\n",
    "    for res in result:\n",
    "       writer.writerow([res])"
   ]
  },
  {
   "cell_type": "code",
   "execution_count": null,
   "metadata": {},
   "outputs": [],
   "source": [
    "dataset = []\n",
    "with open(\"output_translated_5_languages/opus-mt_en-es.csv\", encoding='utf-8') as f:\n",
    "   for line in f:\n",
    "        l=line.split('\\t')\n",
    "\n",
    "        dataset.append(l[0].replace('\\n', ''))\n",
    "dataset = dataset[1:]\n",
    "#data\n",
    "data = dataset[:2000]"
   ]
  },
  {
   "cell_type": "code",
   "execution_count": null,
   "metadata": {},
   "outputs": [],
   "source": [
    "result = model.translate(data, target_lang='en')\n",
    "header = ['ES-EN']\n",
    "\n",
    "with open('opus-mt_es-en.csv', 'w',newline='', encoding='UTF8') as f:\n",
    "    writer = csv.writer(f)\n",
    "\n",
    "    #writer.writerow(header)\n",
    "    for res in result:\n",
    "       writer.writerow([res])"
   ]
  },
  {
   "cell_type": "code",
   "execution_count": null,
   "metadata": {},
   "outputs": [],
   "source": [
    "data = dataset[2000:4000]\n",
    "\n",
    "result = model.translate(data, target_lang='en')\n",
    "header = ['ES-EN']\n",
    "\n",
    "with open('opus-mt_es-en.csv', 'a',newline='', encoding='UTF8') as f:\n",
    "    writer = csv.writer(f)\n",
    "\n",
    "    #writer.writerow(header)\n",
    "    for res in result:\n",
    "       writer.writerow([res])"
   ]
  },
  {
   "cell_type": "code",
   "execution_count": null,
   "metadata": {},
   "outputs": [],
   "source": [
    "data = dataset[4000:4700]\n",
    "\n",
    "result = model.translate(data, target_lang='en')\n",
    "header = ['ES-EN']\n",
    "\n",
    "with open('opus-mt_es-en.csv', 'a',newline='', encoding='UTF8') as f:\n",
    "    writer = csv.writer(f)\n",
    "\n",
    "    #writer.writerow(header)\n",
    "    for res in result:\n",
    "       writer.writerow([res])"
   ]
  },
  {
   "cell_type": "code",
   "execution_count": null,
   "metadata": {},
   "outputs": [],
   "source": [
    "data = dataset[4700:5000]\n",
    "\n",
    "result = model.translate(data, target_lang='en')\n",
    "header = ['ES-EN']\n",
    "\n",
    "with open('opus-mt_es-en.csv', 'a',newline='', encoding='UTF8') as f:\n",
    "    writer = csv.writer(f)\n",
    "\n",
    "    #writer.writerow(header)\n",
    "    for res in result:\n",
    "       writer.writerow([res])"
   ]
  },
  {
   "cell_type": "code",
   "execution_count": null,
   "metadata": {},
   "outputs": [],
   "source": [
    "result = model.translate(data, target_lang='de')\n",
    "header = ['EN-DE']\n",
    "\n",
    "with open('opus-mt_en-de.csv', 'a',newline='', encoding='UTF8') as f:\n",
    "    writer = csv.writer(f)\n",
    "\n",
    "    #writer.writerow(header)\n",
    "    for res in result:\n",
    "       writer.writerow([res])"
   ]
  },
  {
   "cell_type": "code",
   "execution_count": null,
   "metadata": {},
   "outputs": [],
   "source": [
    "result = model.translate(data, target_lang='es')\n",
    "header = ['EN-ES']\n",
    "\n",
    "with open('opus-mt_en-es.csv', 'a',newline='', encoding='UTF8') as f:\n",
    "    writer = csv.writer(f)\n",
    "\n",
    "    #writer.writerow(header)\n",
    "    for res in result:\n",
    "       writer.writerow([res])"
   ]
  },
  {
   "cell_type": "code",
   "execution_count": null,
   "metadata": {},
   "outputs": [],
   "source": [
    "result = model.translate(data, target_lang='it')\n",
    "header = ['EN-IT']\n",
    "\n",
    "with open('opus-mt_en-it.csv', 'a',newline='', encoding='UTF8') as f:\n",
    "    writer = csv.writer(f)\n",
    "\n",
    "    #writer.writerow(header)\n",
    "    for res in result:\n",
    "       writer.writerow([res])"
   ]
  },
  {
   "cell_type": "code",
   "execution_count": null,
   "metadata": {},
   "outputs": [],
   "source": [
    "result = model.translate(data, target_lang='da')\n",
    "header = ['EN-DA']\n",
    "\n",
    "with open('opus-mt_en-da.csv', 'a', newline='', encoding='UTF8') as f:\n",
    "    writer = csv.writer(f)\n",
    "\n",
    "    #writer.writerow(header)\n",
    "    for res in result:\n",
    "       writer.writerow([res])"
   ]
  },
  {
   "cell_type": "code",
   "execution_count": null,
   "metadata": {},
   "outputs": [],
   "source": [
    "model = EasyNMT('m2m_100_418M')"
   ]
  },
  {
   "cell_type": "code",
   "execution_count": null,
   "metadata": {},
   "outputs": [],
   "source": [
    "with open(\"opus-mt_en-fr.csv\",  'a', newline='',encoding='utf-8') as f:\n",
    "    writer = csv.writer(f)\n",
    "    writer.writerow(['abc'])"
   ]
  }
 ],
 "metadata": {
  "kernelspec": {
   "display_name": "Python 3 (ipykernel)",
   "language": "python",
   "name": "python3"
  },
  "language_info": {
   "codemirror_mode": {
    "name": "ipython",
    "version": 3
   },
   "file_extension": ".py",
   "mimetype": "text/x-python",
   "name": "python",
   "nbconvert_exporter": "python",
   "pygments_lexer": "ipython3",
   "version": "3.8.0"
  },
  "toc": {
   "base_numbering": 1,
   "nav_menu": {},
   "number_sections": true,
   "sideBar": true,
   "skip_h1_title": false,
   "title_cell": "Table of Contents",
   "title_sidebar": "Contents",
   "toc_cell": false,
   "toc_position": {},
   "toc_section_display": true,
   "toc_window_display": false
  },
  "varInspector": {
   "cols": {
    "lenName": 16,
    "lenType": 16,
    "lenVar": 40
   },
   "kernels_config": {
    "python": {
     "delete_cmd_postfix": "",
     "delete_cmd_prefix": "del ",
     "library": "var_list.py",
     "varRefreshCmd": "print(var_dic_list())"
    },
    "r": {
     "delete_cmd_postfix": ") ",
     "delete_cmd_prefix": "rm(",
     "library": "var_list.r",
     "varRefreshCmd": "cat(var_dic_list()) "
    }
   },
   "types_to_exclude": [
    "module",
    "function",
    "builtin_function_or_method",
    "instance",
    "_Feature"
   ],
   "window_display": false
  }
 },
 "nbformat": 4,
 "nbformat_minor": 4
}
