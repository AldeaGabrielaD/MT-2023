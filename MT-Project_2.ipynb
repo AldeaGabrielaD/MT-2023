{
 "cells": [
  {
   "cell_type": "code",
   "execution_count": 1,
   "metadata": {
    "ExecuteTime": {
     "end_time": "2023-01-22T16:21:27.611781Z",
     "start_time": "2023-01-22T16:21:27.596151Z"
    }
   },
   "outputs": [
    {
     "name": "stdout",
     "output_type": "stream",
     "text": [
      "Requirement already satisfied: easynmt in c:\\users\\z004d8ph\\anaconda3\\envs\\mt_env\\lib\\site-packages (2.0.2)\n",
      "Requirement already satisfied: fasttext in c:\\users\\z004d8ph\\anaconda3\\envs\\mt_env\\lib\\site-packages (from easynmt) (0.9.2)\n",
      "Requirement already satisfied: tqdm in c:\\users\\z004d8ph\\anaconda3\\envs\\mt_env\\lib\\site-packages (from easynmt) (4.64.1)\n",
      "Requirement already satisfied: transformers<5,>=4.4 in c:\\users\\z004d8ph\\anaconda3\\envs\\mt_env\\lib\\site-packages (from easynmt) (4.25.1)\n",
      "Requirement already satisfied: protobuf in c:\\users\\z004d8ph\\anaconda3\\envs\\mt_env\\lib\\site-packages (from easynmt) (3.20.3)\n",
      "Requirement already satisfied: numpy in c:\\users\\z004d8ph\\anaconda3\\envs\\mt_env\\lib\\site-packages (from easynmt) (1.24.1)\n",
      "Requirement already satisfied: sentencepiece in c:\\users\\z004d8ph\\anaconda3\\envs\\mt_env\\lib\\site-packages (from easynmt) (0.1.97)\n",
      "Requirement already satisfied: torch>=1.6.0 in c:\\users\\z004d8ph\\anaconda3\\envs\\mt_env\\lib\\site-packages (from easynmt) (1.13.1)\n",
      "Requirement already satisfied: nltk in c:\\users\\z004d8ph\\anaconda3\\envs\\mt_env\\lib\\site-packages (from easynmt) (3.8.1)\n",
      "Requirement already satisfied: typing-extensions in c:\\users\\z004d8ph\\anaconda3\\envs\\mt_env\\lib\\site-packages (from torch>=1.6.0->easynmt) (4.4.0)\n",
      "Requirement already satisfied: filelock in c:\\users\\z004d8ph\\anaconda3\\envs\\mt_env\\lib\\site-packages (from transformers<5,>=4.4->easynmt) (3.9.0)\n",
      "Requirement already satisfied: packaging>=20.0 in c:\\users\\z004d8ph\\anaconda3\\envs\\mt_env\\lib\\site-packages (from transformers<5,>=4.4->easynmt) (22.0)\n",
      "Requirement already satisfied: regex!=2019.12.17 in c:\\users\\z004d8ph\\anaconda3\\envs\\mt_env\\lib\\site-packages (from transformers<5,>=4.4->easynmt) (2022.10.31)\n",
      "Requirement already satisfied: tokenizers!=0.11.3,<0.14,>=0.11.1 in c:\\users\\z004d8ph\\anaconda3\\envs\\mt_env\\lib\\site-packages (from transformers<5,>=4.4->easynmt) (0.13.2)\n",
      "Requirement already satisfied: requests in c:\\users\\z004d8ph\\anaconda3\\envs\\mt_env\\lib\\site-packages (from transformers<5,>=4.4->easynmt) (2.28.2)\n",
      "Requirement already satisfied: huggingface-hub<1.0,>=0.10.0 in c:\\users\\z004d8ph\\anaconda3\\envs\\mt_env\\lib\\site-packages (from transformers<5,>=4.4->easynmt) (0.11.1)\n",
      "Requirement already satisfied: pyyaml>=5.1 in c:\\users\\z004d8ph\\anaconda3\\envs\\mt_env\\lib\\site-packages (from transformers<5,>=4.4->easynmt) (6.0)\n",
      "Requirement already satisfied: colorama in c:\\users\\z004d8ph\\anaconda3\\envs\\mt_env\\lib\\site-packages (from tqdm->easynmt) (0.4.6)\n",
      "Requirement already satisfied: pybind11>=2.2 in c:\\users\\z004d8ph\\anaconda3\\envs\\mt_env\\lib\\site-packages (from fasttext->easynmt) (2.10.3)\n",
      "Requirement already satisfied: setuptools>=0.7.0 in c:\\users\\z004d8ph\\anaconda3\\envs\\mt_env\\lib\\site-packages (from fasttext->easynmt) (65.6.3)\n",
      "Requirement already satisfied: click in c:\\users\\z004d8ph\\anaconda3\\envs\\mt_env\\lib\\site-packages (from nltk->easynmt) (8.1.3)\n",
      "Requirement already satisfied: joblib in c:\\users\\z004d8ph\\anaconda3\\envs\\mt_env\\lib\\site-packages (from nltk->easynmt) (1.2.0)\n",
      "Requirement already satisfied: idna<4,>=2.5 in c:\\users\\z004d8ph\\anaconda3\\envs\\mt_env\\lib\\site-packages (from requests->transformers<5,>=4.4->easynmt) (3.4)\n",
      "Requirement already satisfied: certifi>=2017.4.17 in c:\\users\\z004d8ph\\anaconda3\\envs\\mt_env\\lib\\site-packages (from requests->transformers<5,>=4.4->easynmt) (2022.12.7)\n",
      "Requirement already satisfied: charset-normalizer<4,>=2 in c:\\users\\z004d8ph\\anaconda3\\envs\\mt_env\\lib\\site-packages (from requests->transformers<5,>=4.4->easynmt) (3.0.1)\n",
      "Requirement already satisfied: urllib3<1.27,>=1.21.1 in c:\\users\\z004d8ph\\anaconda3\\envs\\mt_env\\lib\\site-packages (from requests->transformers<5,>=4.4->easynmt) (1.26.14)\n"
     ]
    },
    {
     "name": "stderr",
     "output_type": "stream",
     "text": [
      "WARNING: Ignoring invalid distribution -rotobuf (c:\\users\\z004d8ph\\anaconda3\\envs\\mt_env\\lib\\site-packages)\n",
      "WARNING: Ignoring invalid distribution -rotobuf (c:\\users\\z004d8ph\\anaconda3\\envs\\mt_env\\lib\\site-packages)\n",
      "WARNING: Ignoring invalid distribution -rotobuf (c:\\users\\z004d8ph\\anaconda3\\envs\\mt_env\\lib\\site-packages)\n",
      "WARNING: Ignoring invalid distribution -rotobuf (c:\\users\\z004d8ph\\anaconda3\\envs\\mt_env\\lib\\site-packages)\n",
      "WARNING: Ignoring invalid distribution -rotobuf (c:\\users\\z004d8ph\\anaconda3\\envs\\mt_env\\lib\\site-packages)\n",
      "WARNING: Ignoring invalid distribution -rotobuf (c:\\users\\z004d8ph\\anaconda3\\envs\\mt_env\\lib\\site-packages)\n",
      "C:\\Users\\z004d8ph\\Anaconda3\\envs\\mt_env\\lib\\site-packages\\tqdm\\auto.py:22: TqdmWarning: IProgress not found. Please update jupyter and ipywidgets. See https://ipywidgets.readthedocs.io/en/stable/user_install.html\n",
      "  from .autonotebook import tqdm as notebook_tqdm\n"
     ]
    }
   ],
   "source": [
    "import csv\n",
    "#!pip install -U easynmt\n",
    "from easynmt import EasyNMT"
   ]
  },
  {
   "cell_type": "code",
   "execution_count": 2,
   "metadata": {
    "ExecuteTime": {
     "end_time": "2023-01-22T16:21:54.673721Z",
     "start_time": "2023-01-22T16:21:54.646804Z"
    }
   },
   "outputs": [],
   "source": [
    "data = []\n",
    "\n",
    "with open(\"dataset/arguments-training.tsv\", encoding='utf-8') as f:\n",
    "   for line in f:\n",
    "    l=line.split('\\t')\n",
    "    data.append(l[3].replace('\\n', ''))\n",
    "data = data[1:]"
   ]
  },
  {
   "cell_type": "code",
   "execution_count": 3,
   "metadata": {},
   "outputs": [],
   "source": [
    "dataset = []\n",
    "with open(\"output_translated_5_languages/opus-mt_en-de.csv\", encoding='utf-8') as f:\n",
    "   for line in f:\n",
    "        l=line.split('\\t')\n",
    "\n",
    "        dataset.append(l[0].replace('\\n', ''))\n",
    "dataset = dataset[1:]\n",
    "#data"
   ]
  },
  {
   "cell_type": "code",
   "execution_count": 4,
   "metadata": {},
   "outputs": [
    {
     "data": {
      "text/plain": [
       "5000"
      ]
     },
     "execution_count": 4,
     "metadata": {},
     "output_type": "execute_result"
    }
   ],
   "source": [
    "len(dataset)"
   ]
  },
  {
   "cell_type": "code",
   "execution_count": 5,
   "metadata": {
    "ExecuteTime": {
     "end_time": "2023-01-22T16:21:56.927324Z",
     "start_time": "2023-01-22T16:21:56.911022Z"
    }
   },
   "outputs": [],
   "source": [
    "data = dataset[:2000]\n",
    "#data = dataset[2000:4000]\n",
    "#data = dataset[4000:4700]\n",
    "#data = dataset[4700:5000]\n",
    "###data = dataset[5000:5200]"
   ]
  },
  {
   "cell_type": "code",
   "execution_count": 6,
   "metadata": {},
   "outputs": [],
   "source": [
    "#data=dataset[:100]"
   ]
  },
  {
   "cell_type": "code",
   "execution_count": 7,
   "metadata": {},
   "outputs": [
    {
     "name": "stderr",
     "output_type": "stream",
     "text": [
      "C:\\Users\\z004d8ph\\Anaconda3\\envs\\mt_env\\lib\\site-packages\\transformers\\generation\\utils.py:1387: UserWarning: Neither `max_length` nor `max_new_tokens` has been set, `max_length` will default to 200 (`self.config.max_length`). Controlling `max_length` via the config is deprecated and `max_length` will be removed from the config in v5 of Transformers -- we recommend using `max_new_tokens` to control the maximum length of the generation.\n",
      "  warnings.warn(\n"
     ]
    }
   ],
   "source": [
    "model = EasyNMT('mbart50_m2en')\n",
    "result = model.translate(data, target_lang='en')\n",
    "header = ['DE-EN']\n",
    "\n",
    "with open('mbart50_m2en_de-en.csv', 'w',newline='', encoding='UTF8') as f:\n",
    "    writer = csv.writer(f)\n",
    "\n",
    "    #writer.writerow(header)\n",
    "    for res in result:\n",
    "       writer.writerow([res])\n",
    "#result"
   ]
  },
  {
   "cell_type": "code",
   "execution_count": 8,
   "metadata": {},
   "outputs": [],
   "source": [
    "#!pip install --user protobuf==3.20.*"
   ]
  },
  {
   "cell_type": "code",
   "execution_count": 9,
   "metadata": {},
   "outputs": [],
   "source": [
    "data = dataset[2000:4000]\n",
    "result = model.translate(data, target_lang='en')\n",
    "header = ['DE-EN']\n",
    "\n",
    "with open('mbart50_m2en_de-en.csv', 'a',newline='', encoding='UTF8') as f:\n",
    "    writer = csv.writer(f)\n",
    "\n",
    "    #writer.writerow(header)\n",
    "    for res in result:\n",
    "       writer.writerow([res])"
   ]
  },
  {
   "cell_type": "code",
   "execution_count": 10,
   "metadata": {},
   "outputs": [],
   "source": [
    "data = dataset[4000:4700]\n",
    "result = model.translate(data, target_lang='en')\n",
    "header = ['DE-EN']\n",
    "\n",
    "with open('mbart50_m2en_de-en.csv', 'a',newline='', encoding='UTF8') as f:\n",
    "    writer = csv.writer(f)\n",
    "\n",
    "    #writer.writerow(header)\n",
    "    for res in result:\n",
    "       writer.writerow([res])"
   ]
  },
  {
   "cell_type": "code",
   "execution_count": 11,
   "metadata": {},
   "outputs": [],
   "source": [
    "data = dataset[4700:5000]\n",
    "result = model.translate(data, target_lang='en')\n",
    "header = ['DE-EN']\n",
    "\n",
    "with open('mbart50_m2en_de-en.csv', 'a',newline='', encoding='UTF8') as f:\n",
    "    writer = csv.writer(f)\n",
    "\n",
    "    #writer.writerow(header)\n",
    "    for res in result:\n",
    "       writer.writerow([res])"
   ]
  },
  {
   "cell_type": "code",
   "execution_count": 12,
   "metadata": {},
   "outputs": [],
   "source": [
    "dataset = []\n",
    "with open(\"output_translated_5_languages/opus-mt_en-fr.csv\", encoding='utf-8') as f:\n",
    "   for line in f:\n",
    "        l=line.split('\\t')\n",
    "\n",
    "        dataset.append(l[0].replace('\\n', ''))\n",
    "dataset = dataset[1:]\n",
    "#data"
   ]
  },
  {
   "cell_type": "code",
   "execution_count": 13,
   "metadata": {},
   "outputs": [],
   "source": [
    "data = dataset[:2000]\n",
    "result = model.translate(data, target_lang='en')\n",
    "header = ['fr-EN']\n",
    "\n",
    "with open('mbart50_m2en_fr-en.csv', 'w',newline='', encoding='UTF8') as f:\n",
    "    writer = csv.writer(f)\n",
    "\n",
    "    #writer.writerow(header)\n",
    "    for res in result:\n",
    "       writer.writerow([res])"
   ]
  },
  {
   "cell_type": "code",
   "execution_count": 14,
   "metadata": {},
   "outputs": [],
   "source": [
    "data = dataset[2000:4000]\n",
    "result = model.translate(data, target_lang='en')\n",
    "header = ['fr-EN']\n",
    "\n",
    "with open('mbart50_m2en_fr-en.csv', 'a',newline='', encoding='UTF8') as f:\n",
    "    writer = csv.writer(f)\n",
    "\n",
    "    #writer.writerow(header)\n",
    "    for res in result:\n",
    "       writer.writerow([res])"
   ]
  },
  {
   "cell_type": "code",
   "execution_count": 15,
   "metadata": {},
   "outputs": [],
   "source": [
    "data = dataset[4000:4700]\n",
    "result = model.translate(data, target_lang='en')\n",
    "header = ['fr-EN']\n",
    "\n",
    "with open('mbart50_m2en_fr-en.csv', 'a',newline='', encoding='UTF8') as f:\n",
    "    writer = csv.writer(f)\n",
    "\n",
    "    #writer.writerow(header)\n",
    "    for res in result:\n",
    "       writer.writerow([res])"
   ]
  },
  {
   "cell_type": "code",
   "execution_count": 16,
   "metadata": {},
   "outputs": [],
   "source": [
    "data = dataset[4700:5000]\n",
    "result = model.translate(data, target_lang='en')\n",
    "header = ['fr-EN']\n",
    "\n",
    "with open('mbart50_m2en_fr-en.csv', 'a',newline='', encoding='UTF8') as f:\n",
    "    writer = csv.writer(f)\n",
    "\n",
    "    #writer.writerow(header)\n",
    "    for res in result:\n",
    "       writer.writerow([res])"
   ]
  },
  {
   "cell_type": "code",
   "execution_count": 17,
   "metadata": {},
   "outputs": [],
   "source": [
    "dataset = []\n",
    "with open(\"output_translated_5_languages/opus-mt_en-es.csv\", encoding='utf-8') as f:\n",
    "   for line in f:\n",
    "        l=line.split('\\t')\n",
    "\n",
    "        dataset.append(l[0].replace('\\n', ''))\n",
    "dataset = dataset[1:]\n",
    "#data"
   ]
  },
  {
   "cell_type": "code",
   "execution_count": 18,
   "metadata": {},
   "outputs": [],
   "source": [
    "data = dataset[:2000]\n",
    "result = model.translate(data, target_lang='en')\n",
    "header = ['es-EN']\n",
    "\n",
    "with open('mbart50_m2en_es-en.csv', 'w',newline='', encoding='UTF8') as f:\n",
    "    writer = csv.writer(f)\n",
    "\n",
    "    #writer.writerow(header)\n",
    "    for res in result:\n",
    "       writer.writerow([res])"
   ]
  },
  {
   "cell_type": "code",
   "execution_count": 19,
   "metadata": {},
   "outputs": [],
   "source": [
    "data = dataset[2000:4000]\n",
    "result = model.translate(data, target_lang='en')\n",
    "header = ['es-EN']\n",
    "\n",
    "with open('mbart50_m2en_es-en.csv', 'a',newline='', encoding='UTF8') as f:\n",
    "    writer = csv.writer(f)\n",
    "\n",
    "    #writer.writerow(header)\n",
    "    for res in result:\n",
    "       writer.writerow([res])"
   ]
  },
  {
   "cell_type": "code",
   "execution_count": 20,
   "metadata": {},
   "outputs": [],
   "source": [
    "data = dataset[4000:4700]\n",
    "result = model.translate(data, target_lang='en')\n",
    "header = ['es-EN']\n",
    "\n",
    "with open('mbart50_m2en_es-en.csv', 'a',newline='', encoding='UTF8') as f:\n",
    "    writer = csv.writer(f)\n",
    "\n",
    "    #writer.writerow(header)\n",
    "    for res in result:\n",
    "       writer.writerow([res])"
   ]
  },
  {
   "cell_type": "code",
   "execution_count": 21,
   "metadata": {},
   "outputs": [],
   "source": [
    "data = dataset[4700:5000]\n",
    "result = model.translate(data, target_lang='en')\n",
    "header = ['es-EN']\n",
    "\n",
    "with open('mbart50_m2en_es-en.csv', 'a',newline='', encoding='UTF8') as f:\n",
    "    writer = csv.writer(f)\n",
    "\n",
    "    #writer.writerow(header)\n",
    "    for res in result:\n",
    "       writer.writerow([res])"
   ]
  },
  {
   "cell_type": "code",
   "execution_count": 22,
   "metadata": {},
   "outputs": [],
   "source": [
    "dataset = []\n",
    "with open(\"output_translated_5_languages/opus-mt_en-it.csv\", encoding='utf-8') as f:\n",
    "   for line in f:\n",
    "        l=line.split('\\t')\n",
    "\n",
    "        dataset.append(l[0].replace('\\n', ''))\n",
    "dataset = dataset[1:]\n",
    "#data"
   ]
  },
  {
   "cell_type": "code",
   "execution_count": 23,
   "metadata": {},
   "outputs": [],
   "source": [
    "data = dataset[:2000]\n",
    "result = model.translate(data, target_lang='en')\n",
    "header = ['it-EN']\n",
    "\n",
    "with open('mbart50_m2en_it-en.csv', 'w',newline='', encoding='UTF8') as f:\n",
    "    writer = csv.writer(f)\n",
    "\n",
    "    #writer.writerow(header)\n",
    "    for res in result:\n",
    "       writer.writerow([res])"
   ]
  },
  {
   "cell_type": "code",
   "execution_count": 24,
   "metadata": {},
   "outputs": [],
   "source": [
    "data = dataset[2000:4000]\n",
    "result = model.translate(data, target_lang='en')\n",
    "header = ['it-EN']\n",
    "\n",
    "with open('mbart50_m2en_it-en.csv', 'a',newline='', encoding='UTF8') as f:\n",
    "    writer = csv.writer(f)\n",
    "\n",
    "    #writer.writerow(header)\n",
    "    for res in result:\n",
    "       writer.writerow([res])"
   ]
  },
  {
   "cell_type": "code",
   "execution_count": 25,
   "metadata": {},
   "outputs": [],
   "source": [
    "data = dataset[4000:4700]\n",
    "result = model.translate(data, target_lang='en')\n",
    "header = ['it-EN']\n",
    "\n",
    "with open('mbart50_m2en_it-en.csv', 'a',newline='', encoding='UTF8') as f:\n",
    "    writer = csv.writer(f)\n",
    "\n",
    "    #writer.writerow(header)\n",
    "    for res in result:\n",
    "       writer.writerow([res])"
   ]
  },
  {
   "cell_type": "code",
   "execution_count": 26,
   "metadata": {},
   "outputs": [],
   "source": [
    "data = dataset[4700:5000]\n",
    "result = model.translate(data, target_lang='en')\n",
    "header = ['it-EN']\n",
    "\n",
    "with open('mbart50_m2en_it-en.csv', 'a',newline='', encoding='UTF8') as f:\n",
    "    writer = csv.writer(f)\n",
    "\n",
    "    #writer.writerow(header)\n",
    "    for res in result:\n",
    "       writer.writerow([res])"
   ]
  },
  {
   "cell_type": "code",
   "execution_count": 27,
   "metadata": {
    "ExecuteTime": {
     "end_time": "2023-01-22T16:22:05.390048Z",
     "start_time": "2023-01-22T16:22:04.776782Z"
    }
   },
   "outputs": [
    {
     "data": {
      "text/plain": [
       "\"\\nmodel = EasyNMT('opus-mt')\\n\\n#Translate a single sentence to German\\nresult = model.translate(data, target_lang='fr')\\n#print(result)\\n#print(model.translate(result, target_lang='en'))\\n#Translate several sentences to German\\n# sentences = ['You can define a list with sentences.',\\n#              'All sentences are translated to your target language.',\\n#              'Note, you could also mix the languages of the sentences.']\\n# print(model.translate(sentences, target_lang='de'))\\n\""
      ]
     },
     "execution_count": 27,
     "metadata": {},
     "output_type": "execute_result"
    }
   ],
   "source": [
    "model = EasyNMT('opus-mt')\n",
    "\n",
    "result = model.translate(data, target_lang='fr')"
   ]
  },
  {
   "cell_type": "code",
   "execution_count": 28,
   "metadata": {
    "scrolled": true
   },
   "outputs": [
    {
     "name": "stdout",
     "output_type": "stream",
     "text": [
      "['\"When university education is free, the number of graduates will increase dramatically. Right now, a lot of people don\\'t have access to higher education. So many students are not joining college because of their parents\\' financial situation. Free education will be very helpful to them.\"', '\"At the moment, the rich are getting richer and the poor are getting poorer. Free university education will also reduce social inequality because, just as everyone can study and learn skills in college, everyone will have an equal opportunity to establish themselves in the career of their choice.\"', '\"Some students are taking educational loans to study and then they have to work hard to pay off their loans. Many people are forced to take jobs immediately after college to pay off loans. But with free education, they will have freedom in career choices like choosing a job or becoming an entrepreneur or experimenting with concerts, etc.\"', '\"In many countries there is a shortage of skilled workers. When university education is free, this problem will be solved.\"', '\"Currently, private investment in education has led to an improvement in the quality of education. Without the commercialization of education, the quality of education cannot improve very much.\"']\n"
     ]
    }
   ],
   "source": [
    "print(result[:5])"
   ]
  },
  {
   "cell_type": "code",
   "execution_count": 29,
   "metadata": {},
   "outputs": [
    {
     "data": {
      "text/plain": [
       "\"\\nheader = ['EN-FR']\\n\\nwith open('opus-mt_en-fr.csv', 'a',newline='', encoding='UTF8') as f:\\n    writer = csv.writer(f)\\n\\n    #writer.writerow(header)\\n    for res in result:\\n       writer.writerow([res])\\n\""
      ]
     },
     "execution_count": 29,
     "metadata": {},
     "output_type": "execute_result"
    }
   ],
   "source": [
    "header = ['EN-FR']\n",
    "\n",
    "with open('opus-mt_en-fr.csv', 'a',newline='', encoding='UTF8') as f:\n",
    "    writer = csv.writer(f)\n",
    "\n",
    "    #writer.writerow(header)\n",
    "    for res in result:\n",
    "       writer.writerow([res])"
   ]
  },
  {
   "cell_type": "code",
   "execution_count": 30,
   "metadata": {},
   "outputs": [
    {
     "data": {
      "text/plain": [
       "\"\\nresult = model.translate(data, target_lang='de')\\nheader = ['EN-DE']\\n\\nwith open('opus-mt_en-de.csv', 'a',newline='', encoding='UTF8') as f:\\n    writer = csv.writer(f)\\n\\n    #writer.writerow(header)\\n    for res in result:\\n       writer.writerow([res])\\n\""
      ]
     },
     "execution_count": 30,
     "metadata": {},
     "output_type": "execute_result"
    }
   ],
   "source": [
    "result = model.translate(data, target_lang='de')\n",
    "header = ['EN-DE']\n",
    "\n",
    "with open('opus-mt_en-de.csv', 'a',newline='', encoding='UTF8') as f:\n",
    "    writer = csv.writer(f)\n",
    "\n",
    "    #writer.writerow(header)\n",
    "    for res in result:\n",
    "       writer.writerow([res])"
   ]
  },
  {
   "cell_type": "code",
   "execution_count": 31,
   "metadata": {},
   "outputs": [
    {
     "data": {
      "text/plain": [
       "\"\\nresult = model.translate(data, target_lang='es')\\nheader = ['EN-ES']\\n\\nwith open('opus-mt_en-es.csv', 'a',newline='', encoding='UTF8') as f:\\n    writer = csv.writer(f)\\n\\n    #writer.writerow(header)\\n    for res in result:\\n       writer.writerow([res])\\n\""
      ]
     },
     "execution_count": 31,
     "metadata": {},
     "output_type": "execute_result"
    }
   ],
   "source": [
    "result = model.translate(data, target_lang='es')\n",
    "header = ['EN-ES']\n",
    "\n",
    "with open('opus-mt_en-es.csv', 'a',newline='', encoding='UTF8') as f:\n",
    "    writer = csv.writer(f)\n",
    "\n",
    "    #writer.writerow(header)\n",
    "    for res in result:\n",
    "       writer.writerow([res])"
   ]
  },
  {
   "cell_type": "code",
   "execution_count": 32,
   "metadata": {},
   "outputs": [
    {
     "data": {
      "text/plain": [
       "\"\\nresult = model.translate(data, target_lang='it')\\nheader = ['EN-IT']\\n\\nwith open('opus-mt_en-it.csv', 'a',newline='', encoding='UTF8') as f:\\n    writer = csv.writer(f)\\n\\n    #writer.writerow(header)\\n    for res in result:\\n       writer.writerow([res])\\n\""
      ]
     },
     "execution_count": 32,
     "metadata": {},
     "output_type": "execute_result"
    }
   ],
   "source": [
    "result = model.translate(data, target_lang='it')\n",
    "header = ['EN-IT']\n",
    "\n",
    "with open('opus-mt_en-it.csv', 'a',newline='', encoding='UTF8') as f:\n",
    "    writer = csv.writer(f)\n",
    "\n",
    "    #writer.writerow(header)\n",
    "    for res in result:\n",
    "       writer.writerow([res])"
   ]
  },
  {
   "cell_type": "code",
   "execution_count": 33,
   "metadata": {},
   "outputs": [
    {
     "data": {
      "text/plain": [
       "\"\\nresult = model.translate(data, target_lang='da')\\nheader = ['EN-DA']\\n\\nwith open('opus-mt_en-da.csv', 'a', newline='', encoding='UTF8') as f:\\n    writer = csv.writer(f)\\n\\n    #writer.writerow(header)\\n    for res in result:\\n       writer.writerow([res])\\n\""
      ]
     },
     "execution_count": 33,
     "metadata": {},
     "output_type": "execute_result"
    }
   ],
   "source": [
    "result = model.translate(data, target_lang='da')\n",
    "header = ['EN-DA']\n",
    "\n",
    "with open('opus-mt_en-da.csv', 'a', newline='', encoding='UTF8') as f:\n",
    "    writer = csv.writer(f)\n",
    "\n",
    "    #writer.writerow(header)\n",
    "    for res in result:\n",
    "       writer.writerow([res])"
   ]
  },
  {
   "cell_type": "code",
   "execution_count": 34,
   "metadata": {},
   "outputs": [],
   "source": [
    "model = EasyNMT('m2m_100_418M')"
   ]
  },
  {
   "cell_type": "code",
   "execution_count": 35,
   "metadata": {},
   "outputs": [],
   "source": [
    "with open(\"opus-mt_en-fr.csv\",  'a', newline='',encoding='utf-8') as f:\n",
    "    writer = csv.writer(f)\n",
    "    writer.writerow(['abc'])"
   ]
  }
 ],
 "metadata": {
  "kernelspec": {
   "display_name": "Python 3 (ipykernel)",
   "language": "python",
   "name": "python3"
  },
  "language_info": {
   "codemirror_mode": {
    "name": "ipython",
    "version": 3
   },
   "file_extension": ".py",
   "mimetype": "text/x-python",
   "name": "python",
   "nbconvert_exporter": "python",
   "pygments_lexer": "ipython3",
   "version": "3.8.0"
  },
  "toc": {
   "base_numbering": 1,
   "nav_menu": {},
   "number_sections": true,
   "sideBar": true,
   "skip_h1_title": false,
   "title_cell": "Table of Contents",
   "title_sidebar": "Contents",
   "toc_cell": false,
   "toc_position": {},
   "toc_section_display": true,
   "toc_window_display": false
  },
  "varInspector": {
   "cols": {
    "lenName": 16,
    "lenType": 16,
    "lenVar": 40
   },
   "kernels_config": {
    "python": {
     "delete_cmd_postfix": "",
     "delete_cmd_prefix": "del ",
     "library": "var_list.py",
     "varRefreshCmd": "print(var_dic_list())"
    },
    "r": {
     "delete_cmd_postfix": ") ",
     "delete_cmd_prefix": "rm(",
     "library": "var_list.r",
     "varRefreshCmd": "cat(var_dic_list()) "
    }
   },
   "types_to_exclude": [
    "module",
    "function",
    "builtin_function_or_method",
    "instance",
    "_Feature"
   ],
   "window_display": false
  }
 },
 "nbformat": 4,
 "nbformat_minor": 4
}
